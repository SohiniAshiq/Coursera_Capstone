{
 "cells": [
  {
   "cell_type": "markdown",
   "metadata": {},
   "source": [
    "# Capstone Project - The Battle of the Neighborhoods (Week 1)"
   ]
  },
  {
   "cell_type": "markdown",
   "metadata": {},
   "source": [
    "### Introduction: Problem Description"
   ]
  },
  {
   "cell_type": "markdown",
   "metadata": {},
   "source": [
    "Two of the most important cities in the world are New York City and City of Toronto. Every year millions of tourists visit these cities for business and pleasure. \n",
    "\n",
    "The main reasons for tourist to visit these cities are as follows:\n",
    "\n",
    "* Discover different neighborhoods\n",
    "* Stand in the awe of skyscrapers\n",
    "* Enjoying different international and experimental foods\n",
    "* Visiting world renowned arts and galleries\n",
    "\n",
    "People from different part of the world come to visit, they like to explore places, taste similar and different cuisines, enjoy popular sites and much more. When someone wants to visit and has to decide which city to choose, the visitor/visitors would like to compare two cities based on their likes and dislikes. For example, tourists from Italy or France would prefer to eat italian or french cuisine respectively. Or, they might want to try completely different cuisine. In thiese scenarios, they would most likely check the restaurants based on their own taste. \n",
    "\n",
    "The other stakeholder may be the municipal governments of these two cities who would approve or disapprove business establishments based on tourist demand. If certain venues attack more tourists to Tornoto than New York city, they may find the reason from the data analysis and results from the comparison. As more tourists brings more revenue for any city, this analysis will help them decide to attack more tourists.\n",
    "\n",
    "\n",
    "A comparison of the venues between two cities will help people decide where to visit. A data analysis between New York city and Toronto which gives a picture of the sought after venues will serve the purpose."
   ]
  }
 ],
 "metadata": {
  "kernelspec": {
   "display_name": "Python 3",
   "language": "python",
   "name": "python3"
  },
  "language_info": {
   "codemirror_mode": {
    "name": "ipython",
    "version": 3
   },
   "file_extension": ".py",
   "mimetype": "text/x-python",
   "name": "python",
   "nbconvert_exporter": "python",
   "pygments_lexer": "ipython3",
   "version": "3.7.6"
  }
 },
 "nbformat": 4,
 "nbformat_minor": 4
}
